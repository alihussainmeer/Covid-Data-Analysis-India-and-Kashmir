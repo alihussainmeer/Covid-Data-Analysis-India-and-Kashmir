{
 "cells": [
  {
   "cell_type": "markdown",
   "metadata": {},
   "source": [
    "# Set-up"
   ]
  },
  {
   "cell_type": "code",
   "execution_count": 33,
   "metadata": {
    "scrolled": true
   },
   "outputs": [
    {
     "name": "stderr",
     "output_type": "stream",
     "text": [
      "C:\\Users\\AliHussain\\Anaconda3\\lib\\site-packages\\ipykernel_launcher.py:24: SettingWithCopyWarning: \n",
      "A value is trying to be set on a copy of a slice from a DataFrame.\n",
      "Try using .loc[row_indexer,col_indexer] = value instead\n",
      "\n",
      "See the caveats in the documentation: https://pandas.pydata.org/pandas-docs/stable/user_guide/indexing.html#returning-a-view-versus-a-copy\n"
     ]
    }
   ],
   "source": [
    "import pandas as pd\n",
    "from tabula import read_pdf\n",
    "import numpy as np\n",
    "import re\n",
    "\n",
    "df = read_pdf('https://www.mohfw.gov.in/pdf/DistrictWiseList324.pdf',multiple_tables=True,stream =True,pages = 'all',guess=False)\n",
    "districts = ['Srinagar','Budgam','Pulwama','Baramulla','Shopian','Bandipora','Jammu','Rajouri','Udhampur'] # change to add your districts\n",
    "\n",
    "\n",
    "df = df[1].copy()\n",
    "report2 = df[df[df.columns[-2]].isin(districts)]\n",
    "\n",
    "\n",
    "total_districts = report2[report2.columns[1]].dropna().unique().astype(int).max()\n",
    "total_districts\n",
    "\n",
    "\n",
    "if total_districts> 9 :\n",
    "    print('Warning : You need to add more districts')\n",
    "\n",
    "final = report2[[report2.columns[-2],report2.columns[-1]]]\n",
    "final.columns =['District','Positive Cases'] \n",
    "final['Positive Cases'] = final['Positive Cases'].astype(int)\n",
    "#final contains the data from districts which we fetched from pdf file\n",
    "\n",
    "statewise = (pd.read_html('https://www.mohfw.gov.in')[0]).set_index('S. No.')\n",
    "statewise = statewise.iloc[:-2,:]\n",
    "\n",
    "target = statewise.columns[1]\n",
    "foreign_history = int(''.join(re.findall('[1-9]',target)))\n",
    "foreign = pd.DataFrame()\n",
    "foreign['Foreign Travel History'] = [foreign_history]\n",
    "\n",
    "\n",
    "\n",
    "totals = statewise.iloc[-2:-1,:] #a totals to be kept in a separate df\n",
    "statewise[[statewise.columns[1],statewise.columns[2],statewise.columns[3]]] = statewise[[statewise.columns[1],statewise.columns[2],statewise.columns[3]]].astype(int)\n",
    "\n",
    "statewise['Death Rate']=statewise['Death']/statewise['Total Confirmed cases (Including 65 foreign Nationals)']\n",
    "statewise['Recovery Rate'] = statewise['Cured/Discharged/Migrated']/statewise['Total Confirmed cases (Including 65 foreign Nationals)']\n",
    "statewise.rename(columns={\n",
    "    'Name of State / UT': 'State/Union Territory'\n",
    "},inplace=True)\n",
    "\n",
    "states_data_pop = pd.read_csv('state-pop.csv').drop(columns='Unnamed: 0')\n",
    "statewise = statewise.merge(states_data_pop,how = 'left',on='State/Union Territory')\n",
    "#statewise contains the data statewise after merging it with wiki data \n",
    "##################################################################################################################################\n",
    "\n",
    "import gspread\n",
    "import gspread_dataframe as gd\n",
    "from oauth2client.service_account import ServiceAccountCredentials\n",
    "\n",
    "\n",
    "\n",
    "#fetching the data from google sheets into the dataframe\n",
    "def update_credit_page(other,sheetname = 'Sheet1'):\n",
    "    scope = [\"https://spreadsheets.google.com/feeds\",\"https://www.googleapis.com/auth/drive\"]\n",
    "    #----------------------------Need to send this to Rubys Laptop---------------------------\n",
    "    \n",
    "    #replace the filepath with the file you download from credentials file\n",
    "    #also create spreadsheet with the name of the sheets given below\n",
    "    credentials = ServiceAccountCredentials.from_json_keyfile_name(file_path, scope)\n",
    "    gc = gspread.authorize(credentials)\n",
    "    #-----------replace with the actual spreadsheet name -----------\n",
    "    ws = gc.open(\"corona\").worksheet(sheetname)\n",
    "    \n",
    "    gd.set_with_dataframe(ws, other)\n",
    "    print(\"Corona :\"+str(sheetname) +\" :Sheet updated\") \n",
    "\n",
    "\n",
    "\n",
    "update_credit_page(final,sheetname='District')#sheet1\n",
    "\n",
    "update_credit_page(statewise,sheetname='state')#sheet2\n",
    "\n",
    "update_credit_page(totals,sheetname='totals') #sheet3\n",
    "\n",
    "update_credit_page(foreign,sheetname='foreign')#--sheet4\n",
    "\n",
    "\n",
    "\n",
    "\n",
    "\n",
    "#wiki data for states population and code\n",
    "'''\n",
    "tmp = pd.read_html('https://en.wikipedia.org/wiki/States_and_union_territories_of_India')\n",
    "\n",
    "cols = [['State/Union Territory','ISO 3166-2:IN','Population[40]']]\n",
    "tmp1 = tmp[4][['Union territory','ISO 3166-2:IN','Population[40]']]\n",
    "tmp2 = tmp[3][['State','ISO 3166-2:IN','Population[40]']]\n",
    "\n",
    "tmp1.columns = cols\n",
    "tmp2.columns = cols\n",
    "\n",
    "states_data_pop = tmp1.append(tmp2)\n",
    "\n",
    "\n",
    "'''"
   ]
  },
  {
   "cell_type": "code",
   "execution_count": 84,
   "metadata": {},
   "outputs": [],
   "source": []
  },
  {
   "cell_type": "code",
   "execution_count": null,
   "metadata": {
    "scrolled": true
   },
   "outputs": [],
   "source": []
  },
  {
   "cell_type": "code",
   "execution_count": null,
   "metadata": {},
   "outputs": [],
   "source": []
  },
  {
   "cell_type": "code",
   "execution_count": null,
   "metadata": {},
   "outputs": [],
   "source": []
  }
 ],
 "metadata": {
  "kernelspec": {
   "display_name": "Python 3",
   "language": "python",
   "name": "python3"
  },
  "language_info": {
   "codemirror_mode": {
    "name": "ipython",
    "version": 3
   },
   "file_extension": ".py",
   "mimetype": "text/x-python",
   "name": "python",
   "nbconvert_exporter": "python",
   "pygments_lexer": "ipython3",
   "version": "3.7.4"
  }
 },
 "nbformat": 4,
 "nbformat_minor": 2
}
